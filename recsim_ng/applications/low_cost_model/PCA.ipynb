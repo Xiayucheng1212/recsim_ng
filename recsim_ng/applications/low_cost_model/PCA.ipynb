{
 "cells": [
  {
   "cell_type": "code",
   "execution_count": 1,
   "metadata": {},
   "outputs": [],
   "source": [
    "import pandas as pd\n",
    "df = pd.read_csv(\"./str_embed/data\"+\"/embeddings_10k_v3.csv\")"
   ]
  },
  {
   "cell_type": "code",
   "execution_count": 2,
   "metadata": {},
   "outputs": [
    {
     "data": {
      "text/html": [
       "<div>\n",
       "<style scoped>\n",
       "    .dataframe tbody tr th:only-of-type {\n",
       "        vertical-align: middle;\n",
       "    }\n",
       "\n",
       "    .dataframe tbody tr th {\n",
       "        vertical-align: top;\n",
       "    }\n",
       "\n",
       "    .dataframe thead th {\n",
       "        text-align: right;\n",
       "    }\n",
       "</style>\n",
       "<table border=\"1\" class=\"dataframe\">\n",
       "  <thead>\n",
       "    <tr style=\"text-align: right;\">\n",
       "      <th></th>\n",
       "      <th>Unnamed: 0</th>\n",
       "      <th>category_encoded</th>\n",
       "      <th>embedding_cat_headline</th>\n",
       "      <th>embedding_description</th>\n",
       "    </tr>\n",
       "  </thead>\n",
       "  <tbody>\n",
       "    <tr>\n",
       "      <th>0</th>\n",
       "      <td>50346</td>\n",
       "      <td>0</td>\n",
       "      <td>[-0.018390951678156853, 0.00830016192048788, 0...</td>\n",
       "      <td>[0.016534414142370224, -0.005365665536373854, ...</td>\n",
       "    </tr>\n",
       "    <tr>\n",
       "      <th>1</th>\n",
       "      <td>50356</td>\n",
       "      <td>0</td>\n",
       "      <td>[-0.011984625831246376, -0.007588221691548824,...</td>\n",
       "      <td>[0.008511888794600964, 0.017987210303544998, -...</td>\n",
       "    </tr>\n",
       "    <tr>\n",
       "      <th>2</th>\n",
       "      <td>57628</td>\n",
       "      <td>0</td>\n",
       "      <td>[-0.020438216626644135, 0.017187606543302536, ...</td>\n",
       "      <td>[-0.0024086209014058113, 0.028303714469075203,...</td>\n",
       "    </tr>\n",
       "    <tr>\n",
       "      <th>3</th>\n",
       "      <td>63176</td>\n",
       "      <td>0</td>\n",
       "      <td>[-0.006794048938900232, -0.008772898465394974,...</td>\n",
       "      <td>[0.012148115783929825, 0.013242886401712894, -...</td>\n",
       "    </tr>\n",
       "    <tr>\n",
       "      <th>4</th>\n",
       "      <td>64463</td>\n",
       "      <td>0</td>\n",
       "      <td>[-0.023272991180419922, 0.0002981139987241477,...</td>\n",
       "      <td>[0.0026629322674125433, 0.011720685288310051, ...</td>\n",
       "    </tr>\n",
       "  </tbody>\n",
       "</table>\n",
       "</div>"
      ],
      "text/plain": [
       "   Unnamed: 0  category_encoded  \\\n",
       "0       50346                 0   \n",
       "1       50356                 0   \n",
       "2       57628                 0   \n",
       "3       63176                 0   \n",
       "4       64463                 0   \n",
       "\n",
       "                              embedding_cat_headline  \\\n",
       "0  [-0.018390951678156853, 0.00830016192048788, 0...   \n",
       "1  [-0.011984625831246376, -0.007588221691548824,...   \n",
       "2  [-0.020438216626644135, 0.017187606543302536, ...   \n",
       "3  [-0.006794048938900232, -0.008772898465394974,...   \n",
       "4  [-0.023272991180419922, 0.0002981139987241477,...   \n",
       "\n",
       "                               embedding_description  \n",
       "0  [0.016534414142370224, -0.005365665536373854, ...  \n",
       "1  [0.008511888794600964, 0.017987210303544998, -...  \n",
       "2  [-0.0024086209014058113, 0.028303714469075203,...  \n",
       "3  [0.012148115783929825, 0.013242886401712894, -...  \n",
       "4  [0.0026629322674125433, 0.011720685288310051, ...  "
      ]
     },
     "execution_count": 2,
     "metadata": {},
     "output_type": "execute_result"
    }
   ],
   "source": [
    "df.head()"
   ]
  },
  {
   "cell_type": "code",
   "execution_count": null,
   "metadata": {},
   "outputs": [],
   "source": [
    "import pandas as pd\n",
    "import numpy as np\n",
    "from sklearn.decomposition import PCA\n",
    "from sklearn.preprocessing import StandardScaler\n",
    "import ast\n",
    "\n",
    "# Step 1: Read in the CSV file\n",
    "file_path = \"./str_embed/data\"+\"/embeddings_10k_v3.csv\"\n",
    "data = pd.read_csv(file_path)\n",
    "\n",
    "# Step 2: Convert the string representation of lists into actual lists\n",
    "data['embedding_description'] = data['embedding_description'].apply(ast.literal_eval)\n",
    "\n",
    "# Convert lists into rows for PCA\n",
    "vectors = np.array(data['embedding_description'].tolist())\n",
    "\n",
    "# Step 3: Standardize the data\n",
    "scaler = StandardScaler()\n",
    "X_standardized = scaler.fit_transform(vectors)\n",
    "\n",
    "# Step 4: Perform PCA\n",
    "# For this example, let's reduce the dimensionality to 2\n",
    "pca = PCA(n_components=110)\n",
    "principal_components = pca.fit_transform(X_standardized)\n",
    "\n",
    "# Step 5: Convert the reduced vectors back to single-column format\n",
    "data['reduced_vector'] = principal_components.tolist()\n",
    "\n",
    "print(data['reduced_vector'].head())\n"
   ]
  }
 ],
 "metadata": {
  "kernelspec": {
   "display_name": "recsim",
   "language": "python",
   "name": "python3"
  },
  "language_info": {
   "codemirror_mode": {
    "name": "ipython",
    "version": 3
   },
   "file_extension": ".py",
   "mimetype": "text/x-python",
   "name": "python",
   "nbconvert_exporter": "python",
   "pygments_lexer": "ipython3",
   "version": "3.8.18"
  }
 },
 "nbformat": 4,
 "nbformat_minor": 2
}
