{
 "cells": [
  {
   "cell_type": "code",
   "execution_count": 3,
   "metadata": {},
   "outputs": [
    {
     "data": {
      "text/plain": [
       "(20, 1536)"
      ]
     },
     "execution_count": 3,
     "metadata": {},
     "output_type": "execute_result"
    }
   ],
   "source": [
    "import numpy as np\n",
    "import pandas as pd\n",
    "from ast import literal_eval\n",
    "\n",
    "# load data\n",
    "datafile_path = \"./data/embeddings.csv\"\n",
    "\n",
    "df = pd.read_csv(datafile_path)\n",
    "df[\"embedding\"] = df.embedding.apply(literal_eval).apply(np.array)  # convert string to numpy array\n",
    "matrix = np.vstack(df.embedding.values)\n",
    "matrix.shape"
   ]
  },
  {
   "cell_type": "code",
   "execution_count": 2,
   "metadata": {},
   "outputs": [
    {
     "data": {
      "text/plain": [
       "array([35,  5, 22, 40,  7, 32, 28], dtype=int64)"
      ]
     },
     "execution_count": 2,
     "metadata": {},
     "output_type": "execute_result"
    }
   ],
   "source": [
    "df[\"category_encoded\"].unique()"
   ]
  },
  {
   "cell_type": "code",
   "execution_count": 8,
   "metadata": {},
   "outputs": [
    {
     "name": "stdout",
     "output_type": "stream",
     "text": [
      "[0 2 4 4 2 1 2 6 5 3 3 3 6 2 2 1 5 1 3 6]\n"
     ]
    },
    {
     "name": "stderr",
     "output_type": "stream",
     "text": [
      "c:\\Users\\EmilyXia\\anaconda3\\envs\\tensor_py3.8\\lib\\site-packages\\sklearn\\cluster\\_kmeans.py:1416: FutureWarning: The default value of `n_init` will change from 10 to 'auto' in 1.4. Set the value of `n_init` explicitly to suppress the warning\n",
      "  super()._check_params_vs_input(X, default_n_init=10)\n"
     ]
    },
    {
     "data": {
      "text/plain": [
       "array([array([-0.01542859, -0.02962708,  0.00955945, ..., -0.02613308,\n",
       "               0.00638605, -0.00031284])                              ,\n",
       "       array([ 0.00115484, -0.0030482 ,  0.01202154, ...,  0.00056711,\n",
       "              -0.01084431, -0.00256133])                              ,\n",
       "       array([-0.01627253, -0.02329435,  0.01514663, ..., -0.00518252,\n",
       "              -0.01749945, -0.0116682 ])                              ,\n",
       "       array([-0.00942666, -0.01666223,  0.01427484, ..., -0.00207435,\n",
       "               0.00768258, -0.0043811 ])                              ,\n",
       "       array([ 0.00804171,  0.01241068,  0.01344363, ...,  0.00558627,\n",
       "              -0.00685094, -0.0412705 ])                              ,\n",
       "       array([ 0.00278943, -0.00969637,  0.00999494, ...,  0.00011264,\n",
       "              -0.01335347, -0.01437592])                              ,\n",
       "       array([-0.01172645, -0.01438096, -0.00681503, ..., -0.01572391,\n",
       "              -0.01991296, -0.00373434])                              ],\n",
       "      dtype=object)"
      ]
     },
     "execution_count": 8,
     "metadata": {},
     "output_type": "execute_result"
    }
   ],
   "source": [
    "from sklearn.cluster import KMeans\n",
    "\n",
    "n_clusters = 7\n",
    "\n",
    "kmeans = KMeans(n_clusters=n_clusters, init=\"k-means++\", random_state=42)\n",
    "kmeans.fit(matrix)\n",
    "labels = kmeans.labels_\n",
    "print(labels)\n",
    "df[\"Cluster\"] = labels\n",
    "\n",
    "cluster_centers = df.groupby(\"Cluster\").embedding.mean()\n",
    "cluster_centers.values"
   ]
  },
  {
   "cell_type": "code",
   "execution_count": 10,
   "metadata": {},
   "outputs": [
    {
     "data": {
      "text/plain": [
       "Text(0.5, 1.0, 'Clusters identified visualized in language 2d using t-SNE')"
      ]
     },
     "execution_count": 10,
     "metadata": {},
     "output_type": "execute_result"
    },
    {
     "data": {
      "image/png": "[encoded data removed]",
      "text/plain": [
       "<Figure size 640x480 with 1 Axes>"
      ]
     },
     "metadata": {},
     "output_type": "display_data"
    }
   ],
   "source": [
    "from sklearn.manifold import TSNE\n",
    "import matplotlib\n",
    "import matplotlib.pyplot as plt\n",
    "\n",
    "tsne = TSNE(n_components=2, perplexity=15, random_state=42, init=\"random\", learning_rate=200)\n",
    "vis_dims2 = tsne.fit_transform(matrix)\n",
    "\n",
    "x = [x for x, y in vis_dims2]\n",
    "y = [y for x, y in vis_dims2]\n",
    "\n",
    "for category, color in enumerate([\"purple\", \"green\", \"red\", \"blue\", \"yellow\", \"pink\", \"orange\"]):\n",
    "    xs = np.array(x)[df.Cluster == category]\n",
    "    ys = np.array(y)[df.Cluster == category]\n",
    "    plt.scatter(xs, ys, color=color, alpha=0.3)\n",
    "\n",
    "    avg_x = xs.mean()\n",
    "    avg_y = ys.mean()\n",
    "\n",
    "    plt.scatter(avg_x, avg_y, marker=\"x\", color=color, s=100)\n",
    "plt.title(\"Clusters identified visualized in language 2d using t-SNE\")"
   ]
  },
  {
   "cell_type": "code",
   "execution_count": 45,
   "metadata": {},
   "outputs": [],
   "source": [
    "# choose several near classes if the distances are smaller than the threshold\n",
    "def choose_near_classes(embed, num_near_classes, threshold, class_centers):\n",
    "    chosen_classes = []\n",
    "    for i, center in enumerate(class_centers):\n",
    "        dis = np.linalg.norm(embed - center)\n",
    "        if dis < threshold:\n",
    "            chosen_classes.append([i, dis])\n",
    "    chosen_classes = sorted(chosen_classes, key=lambda x: x[1])\n",
    "    return chosen_classes[:num_near_classes]\n",
    "\n",
    "# output the class feature value: 1.0 -> dis btw doc and home class center, value -> dis btw doc and other class center/ dis btw doc and home class center\n",
    "def get_class_feature_value(near_classes, num_classes):\n",
    "    doc_home_dis = near_classes[0][1]\n",
    "    doc_topic_feature = np.zeros(num_classes)\n",
    "\n",
    "    for i in near_classes:\n",
    "        doc_topic_feature[i[0]] = doc_home_dis / (i[1] + 0.000001)\n",
    "    return doc_topic_feature"
   ]
  },
  {
   "cell_type": "code",
   "execution_count": 57,
   "metadata": {},
   "outputs": [
    {
     "name": "stdout",
     "output_type": "stream",
     "text": [
      "7\n",
      "(20, 7)\n"
     ]
    }
   ],
   "source": [
    "near_classes = choose_near_classes(matrix[3], 4, 0.6, cluster_centers.values)\n",
    "doc_topic_feature = get_class_feature_value(near_classes, n_clusters)\n",
    "\n",
    "all_doc_topic_feature = list(map(lambda x: get_class_feature_value(choose_near_classes(x, 4, 0.6, cluster_centers.values), n_clusters), matrix))\n",
    "print(len(all_doc_topic_feature[0]))\n",
    "# save to csv file && add header\n",
    "df = pd.DataFrame(all_doc_topic_feature)\n",
    "df.to_csv('./data/doc_topic_feature.csv')\n",
    "\n",
    "# test outcome\n",
    "df = pd.read_csv('./data/doc_topic_feature.csv')\n",
    "features = np.array(df.values[:, 1:])\n",
    "print(features.shape)\n"
   ]
  }
 ],
 "metadata": {
  "kernelspec": {
   "display_name": "tensor_py3.8",
   "language": "python",
   "name": "python3"
  },
  "language_info": {
   "codemirror_mode": {
    "name": "ipython",
    "version": 3
   },
   "file_extension": ".py",
   "mimetype": "text/x-python",
   "name": "python",
   "nbconvert_exporter": "python",
   "pygments_lexer": "ipython3",
   "version": "3.8.18"
  }
 },
 "nbformat": 4,
 "nbformat_minor": 2
}
